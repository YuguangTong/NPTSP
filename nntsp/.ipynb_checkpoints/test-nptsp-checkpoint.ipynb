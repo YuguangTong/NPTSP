{
 "metadata": {
  "name": "",
  "signature": "sha256:96c00c9e07c29310cf98e7e78ce038a6a9c22586e986141f9f0825060522abd5"
 },
 "nbformat": 3,
 "nbformat_minor": 0,
 "worksheets": [
  {
   "cells": [
    {
     "cell_type": "code",
     "collapsed": false,
     "input": [
      "from nptspGraph import nptspGraph"
     ],
     "language": "python",
     "metadata": {},
     "outputs": [],
     "prompt_number": 3
    },
    {
     "cell_type": "code",
     "collapsed": false,
     "input": [
      "from random import randint"
     ],
     "language": "python",
     "metadata": {},
     "outputs": [],
     "prompt_number": 4
    },
    {
     "cell_type": "code",
     "collapsed": false,
     "input": [
      "d = [[randint(0,10) for _ in range(8)] for _ in range(8)]\n",
      "print(d)\n",
      "c = 'RRRRBBBB'"
     ],
     "language": "python",
     "metadata": {},
     "outputs": [
      {
       "output_type": "stream",
       "stream": "stdout",
       "text": [
        "[[10, 3, 0, 10, 1, 3, 9, 0], [5, 6, 10, 10, 6, 3, 5, 8], [9, 4, 4, 7, 8, 3, 0, 7], [9, 5, 7, 10, 10, 4, 8, 1], [7, 2, 9, 8, 6, 6, 5, 2], [9, 0, 1, 7, 0, 6, 6, 6], [10, 4, 8, 4, 2, 8, 2, 9], [3, 10, 0, 10, 5, 5, 5, 4]]\n"
       ]
      }
     ],
     "prompt_number": 5
    },
    {
     "cell_type": "code",
     "collapsed": false,
     "input": [
      "g = nptspGraph(d, c, 8)"
     ],
     "language": "python",
     "metadata": {},
     "outputs": [],
     "prompt_number": 6
    },
    {
     "cell_type": "code",
     "collapsed": false,
     "input": [
      "g.tour_cost(list(reversed(range(8))))"
     ],
     "language": "python",
     "metadata": {},
     "outputs": [
      {
       "metadata": {},
       "output_type": "pyout",
       "prompt_number": 7,
       "text": [
        "37"
       ]
      }
     ],
     "prompt_number": 7
    },
    {
     "cell_type": "code",
     "collapsed": false,
     "input": [
      "g.is_valid_tour(list(range(8)))"
     ],
     "language": "python",
     "metadata": {},
     "outputs": [
      {
       "metadata": {},
       "output_type": "pyout",
       "prompt_number": 8,
       "text": [
        "False"
       ]
      }
     ],
     "prompt_number": 8
    },
    {
     "cell_type": "code",
     "collapsed": false,
     "input": [
      "t = g.random_tour()"
     ],
     "language": "python",
     "metadata": {},
     "outputs": [],
     "prompt_number": 10
    },
    {
     "cell_type": "code",
     "collapsed": false,
     "input": [],
     "language": "python",
     "metadata": {},
     "outputs": []
    }
   ],
   "metadata": {}
  }
 ]
}