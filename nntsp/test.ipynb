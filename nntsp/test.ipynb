{
 "metadata": {
  "name": "",
  "signature": "sha256:0f09daf3fd1f71d66e9388f15de6796284bc4a026552d0489ae71c977f3a0197"
 },
 "nbformat": 3,
 "nbformat_minor": 0,
 "worksheets": [
  {
   "cells": [
    {
     "cell_type": "code",
     "collapsed": false,
     "input": [
      "from nngraph import nnGraph\n",
      "from copy import copy\n",
      "import numpy as np"
     ],
     "language": "python",
     "metadata": {},
     "outputs": [],
     "prompt_number": 1
    },
    {
     "cell_type": "code",
     "collapsed": false,
     "input": [
      "T = 3\n",
      "for t in range(1, T + 1):\n",
      "    fin = open(str(t) + \".in\", \"r\")\n",
      "    numCity = int(fin.readline())\n",
      "    distMatr = [[] for i in range(numCity)]\n",
      "    for i in range(numCity):\n",
      "        distMatr[i] = [int(x) for x in fin.readline().split()]\n",
      "    colorList = fin.read()\n",
      "    fin.close()"
     ],
     "language": "python",
     "metadata": {},
     "outputs": [],
     "prompt_number": 2
    },
    {
     "cell_type": "code",
     "collapsed": false,
     "input": [
      "distMatr.__len__()"
     ],
     "language": "python",
     "metadata": {},
     "outputs": [
      {
       "metadata": {},
       "output_type": "pyout",
       "prompt_number": 3,
       "text": [
        "50"
       ]
      }
     ],
     "prompt_number": 3
    },
    {
     "cell_type": "code",
     "collapsed": false,
     "input": [
      "g = nnGraph(distMatr, colorList, numCity)"
     ],
     "language": "python",
     "metadata": {},
     "outputs": [],
     "prompt_number": 4
    },
    {
     "cell_type": "code",
     "collapsed": false,
     "input": [
      "tb=g.nn_best()\n",
      "print(tb)\n",
      "tbr = g.nn_best_reversed()\n",
      "print(tbr)"
     ],
     "language": "python",
     "metadata": {},
     "outputs": [
      {
       "output_type": "stream",
       "stream": "stdout",
       "text": [
        "([12, 13, 10, 3, 18, 20, 43, 30, 1, 19, 38, 16, 33, 9, 5, 42, 26, 31, 8, 0, 39, 17, 29, 6, 49, 36, 25, 35, 46, 44, 45, 22, 48, 28, 7, 21, 15, 27, 4, 14, 41, 32, 11, 24, 23, 34, 47, 40, 2, 37], 4453)\n",
        "([7, 39, 38, 3, 0, 23, 33, 49, 6, 42, 43, 11, 15, 31, 32, 40, 2, 18, 36, 20, 22, 48, 29, 41, 30, 27, 17, 8, 25, 47, 34, 13, 9, 5, 12, 1, 21, 16, 14, 4, 26, 10, 19, 24, 35, 46, 45, 44, 28, 37], 1556)"
       ]
      },
      {
       "output_type": "stream",
       "stream": "stdout",
       "text": [
        "\n"
       ]
      }
     ],
     "prompt_number": 5
    },
    {
     "cell_type": "code",
     "collapsed": false,
     "input": [
      "print(tbr)\n",
      "''.join([g._colorList[i] for i in tbr[0]])"
     ],
     "language": "python",
     "metadata": {},
     "outputs": [
      {
       "output_type": "stream",
       "stream": "stdout",
       "text": [
        "([7, 39, 38, 3, 0, 23, 33, 49, 6, 42, 43, 11, 15, 31, 32, 40, 2, 18, 36, 20, 22, 48, 29, 41, 30, 27, 17, 8, 25, 47, 34, 13, 9, 5, 12, 1, 21, 16, 14, 4, 26, 10, 19, 24, 35, 46, 45, 44, 28, 37], 1556)\n"
       ]
      },
      {
       "metadata": {},
       "output_type": "pyout",
       "prompt_number": 6,
       "text": [
        "'BBBRRBBBRRBBBRRRBBRRRBBBRRRBBBRRRBBBRRRBBBRRRBBRRR'"
       ]
      }
     ],
     "prompt_number": 6
    },
    {
     "cell_type": "code",
     "collapsed": false,
     "input": [
      "print(t1)\n",
      "g.tour_cost(t1)"
     ],
     "language": "python",
     "metadata": {},
     "outputs": [
      {
       "output_type": "stream",
       "stream": "stdout",
       "text": [
        "[3, 10, 13, 5, 42, 43, 20, 18, 36, 25, 35, 39, 0, 8, 17, 29, 6, 49, 19, 1, 30, 41, 14, 4, 22, 45, 31, 11, 28, 7, 21, 15, 27, 46, 44, 48, 34, 47, 24, 23, 16, 33, 9, 26, 37, 12, 40, 2, 32, 38]\n"
       ]
      },
      {
       "metadata": {},
       "output_type": "pyout",
       "prompt_number": 6,
       "text": [
        "4462"
       ]
      }
     ],
     "prompt_number": 6
    },
    {
     "cell_type": "code",
     "collapsed": false,
     "input": [
      "print(g.alter_tour(t1))"
     ],
     "language": "python",
     "metadata": {},
     "outputs": [
      {
       "output_type": "stream",
       "stream": "stdout",
       "text": [
        "[3, 0, 6, 49, 41, 29, 35, 24, 19, 10, 39, 26, 37, 22, 48, 25, 8, 17, 27, 42, 43, 11, 15, 31, 21, 7, 12, 2, 40, 32, 20, 18, 5, 47, 34, 13, 16, 33, 23, 1, 30, 28, 44, 46, 45, 4, 14, 9, 36, 38]\n"
       ]
      }
     ],
     "prompt_number": 56
    },
    {
     "cell_type": "code",
     "collapsed": false,
     "input": [
      "print(t1)\n",
      "''.join([g._colorList[i] for i in t1])"
     ],
     "language": "python",
     "metadata": {},
     "outputs": [
      {
       "output_type": "stream",
       "stream": "stdout",
       "text": [
        "[3, 0, 6, 49, 41, 29, 35, 24, 19, 10, 39, 26, 37, 22, 48, 25, 8, 17, 27, 42, 43, 11, 15, 31, 21, 7, 12, 2, 40, 32, 20, 18, 5, 47, 34, 13, 16, 33, 23, 1, 30, 28, 44, 46, 45, 4, 14, 9, 36, 38]\n"
       ]
      },
      {
       "metadata": {},
       "output_type": "pyout",
       "prompt_number": 50,
       "text": [
        "'RRRBBBRRRBBBRRBBBRRRBBBRRBBBRRRBBBRRRBBBRRRBBBRRRB'"
       ]
      }
     ],
     "prompt_number": 50
    },
    {
     "cell_type": "code",
     "collapsed": false,
     "input": [
      "print(t1)\n",
      "g.tour_cost(t1)"
     ],
     "language": "python",
     "metadata": {},
     "outputs": [
      {
       "output_type": "stream",
       "stream": "stdout",
       "text": [
        "[3, 0, 6, 49, 41, 29, 35, 24, 19, 10, 39, 26, 37, 22, 48, 25, 8, 17, 27, 42, 43, 11, 15, 31, 21, 7, 12, 2, 40, 32, 20, 18, 5, 47, 34, 13, 16, 33, 23, 1, 30, 28, 44, 46, 45, 4, 14, 9, 36, 38]\n"
       ]
      },
      {
       "metadata": {},
       "output_type": "pyout",
       "prompt_number": 51,
       "text": [
        "1569"
       ]
      }
     ],
     "prompt_number": 51
    },
    {
     "cell_type": "code",
     "collapsed": false,
     "input": [
      "g.check_tour(t1)"
     ],
     "language": "python",
     "metadata": {},
     "outputs": [
      {
       "metadata": {},
       "output_type": "pyout",
       "prompt_number": 52,
       "text": [
        "True"
       ]
      }
     ],
     "prompt_number": 52
    },
    {
     "cell_type": "code",
     "collapsed": false,
     "input": [],
     "language": "python",
     "metadata": {},
     "outputs": []
    }
   ],
   "metadata": {}
  }
 ]
}