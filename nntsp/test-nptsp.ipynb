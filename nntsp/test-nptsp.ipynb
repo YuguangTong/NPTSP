{
 "metadata": {
  "name": "",
  "signature": "sha256:b8dea7b9a9eb8036645ca15c45bc482c3bba9629f9327bcd51bf1b8170357ffb"
 },
 "nbformat": 3,
 "nbformat_minor": 0,
 "worksheets": [
  {
   "cells": [
    {
     "cell_type": "code",
     "collapsed": false,
     "input": [
      "class nptspGraph(object):\n",
      "    \"\"\"                                                                         \n",
      "    Super class of any nptsp Graphs                                             \n",
      "    \"\"\"\n",
      "    def __init__(self, distMatr, colorList, numCity):\n",
      "        \"\"\"                                                                     \n",
      "        Initiator                                                               \n",
      "        distMatr: a python list representing a symmetric distance matrix.       \n",
      "        colorList: a string consisting only 'R' and 'B'                         \n",
      "        numCity: number of nodes in the graph                                   \n",
      "                                                                                \n",
      "        \"\"\"\n",
      "        assert len(distMatr) == numCity\n",
      "        assert len(colorList) == numCity\n",
      "        self.distMatr = distMatr\n",
      "        self.colorList = colorList\n",
      "        self.numCity = numCity\n",
      "        _rs = []\n",
      "        _bs = []\n",
      "        for c in range(self.numCity):\n",
      "            if self.colorList[c] == 'R':\n",
      "                _rs += [c]\n",
      "            else:\n",
      "                _bs += [c]\n",
      "        self.redSet = frozenset(_rs)\n",
      "        self.blueSet = frozenset(_bs)\n",
      "        self.unvisitedRed = None\n",
      "        self.unvisitedBlue = None\n",
      "\n",
      "    def tour_cost(self, tour):\n",
      "        \"\"\"                                                                     \n",
      "        Calculate the cost of the TOUR                                          \n",
      "        \"\"\"\n",
      "        assert len(tour) == self.numCity\n",
      "        cost = 0\n",
      "        for i in range(self.numCity - 1):\n",
      "            cost += self.distMatr[tour[i]][tour[i+1]]\n",
      "        return cost\n",
      "\n",
      "    def visit_city(city):\n",
      "        \"\"\"                                                                     \n",
      "        In contruction of a tour:                                               \n",
      "        remove a red(blue) CITY from unvisitedRed (unvisitedBlue)               \n",
      "        \"\"\"\n",
      "        if city not in self.unvisitedRed and \\\n",
      "                city not in self.unvisitedBlue:\n",
      "            raise Exception('Error: Invalid city to visit')\n",
      "        if color == 'R':\n",
      "            self.unvisitedRed.remove(city)\n",
      "        else:\n",
      "            self.unvisitedBlue.remove(city)\n",
      "        return\n",
      "\n",
      "    def is_valid_tour(self, tour):\n",
      "        \"\"\"                                                                     \n",
      "        Check if TOUR satisfies color constraints in NNTSP                      \n",
      "        \"\"\"\n",
      "        count = 0\n",
      "        prev = 'X'\n",
      "        for k in range(self.numCity):\n",
      "            cur = self.colorList[tour[k]]\n",
      "            if cur == prev:\n",
      "                count += 1\n",
      "                if count > 3:\n",
      "                    return False\n",
      "            else:\n",
      "                prev = cur\n",
      "                count = 1\n",
      "        return True\n",
      "\n"
     ],
     "language": "python",
     "metadata": {},
     "outputs": [],
     "prompt_number": 14
    },
    {
     "cell_type": "code",
     "collapsed": false,
     "input": [
      "from random import randint"
     ],
     "language": "python",
     "metadata": {},
     "outputs": [],
     "prompt_number": 5
    },
    {
     "cell_type": "code",
     "collapsed": false,
     "input": [
      "d = [[randint(0,10) for _ in range(8)] for _ in range(8)]\n",
      "print(d)\n",
      "c = 'RRRRBBBB'"
     ],
     "language": "python",
     "metadata": {},
     "outputs": [
      {
       "output_type": "stream",
       "stream": "stdout",
       "text": [
        "[[1, 2, 4, 9, 4, 6, 7, 8], [7, 5, 5, 0, 6, 7, 7, 1], [1, 9, 10, 1, 2, 4, 5, 6], [4, 5, 0, 2, 0, 6, 10, 3], [2, 9, 7, 10, 9, 0, 1, 6], [8, 8, 4, 9, 8, 1, 4, 3], [8, 7, 4, 8, 0, 1, 1, 6], [8, 9, 3, 5, 5, 9, 4, 5]]\n"
       ]
      }
     ],
     "prompt_number": 18
    },
    {
     "cell_type": "code",
     "collapsed": false,
     "input": [
      "g = nptspGraph(d, c, 8)"
     ],
     "language": "python",
     "metadata": {},
     "outputs": [],
     "prompt_number": 19
    },
    {
     "cell_type": "code",
     "collapsed": false,
     "input": [
      "g.tour_cost(list(reversed(range(8))))"
     ],
     "language": "python",
     "metadata": {},
     "outputs": [
      {
       "metadata": {},
       "output_type": "pyout",
       "prompt_number": 20,
       "text": [
        "39"
       ]
      }
     ],
     "prompt_number": 20
    },
    {
     "cell_type": "code",
     "collapsed": false,
     "input": [
      "g.is_valid_tour(list(range(8)))"
     ],
     "language": "python",
     "metadata": {},
     "outputs": [
      {
       "metadata": {},
       "output_type": "pyout",
       "prompt_number": 21,
       "text": [
        "False"
       ]
      }
     ],
     "prompt_number": 21
    },
    {
     "cell_type": "code",
     "collapsed": false,
     "input": [],
     "language": "python",
     "metadata": {},
     "outputs": []
    }
   ],
   "metadata": {}
  }
 ]
}