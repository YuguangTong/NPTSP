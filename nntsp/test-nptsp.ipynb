{
 "metadata": {
  "name": "",
  "signature": "sha256:3be47903134f1b35270aca0a6dc270d04b3173b5763a0d872f81587c7cfa9ad8"
 },
 "nbformat": 3,
 "nbformat_minor": 0,
 "worksheets": [
  {
   "cells": [
    {
     "cell_type": "code",
     "collapsed": false,
     "input": [
      "from nptspGraph import nptspGraph\n",
      "from new_nngraph import nnGraph\n",
      "from random import randint"
     ],
     "language": "python",
     "metadata": {},
     "outputs": [],
     "prompt_number": 1
    },
    {
     "cell_type": "code",
     "collapsed": false,
     "input": [
      "d = [[randint(0,10) for _ in range(8)] for _ in range(8)]\n",
      "print(d)\n",
      "c = 'RRRRBBBB'"
     ],
     "language": "python",
     "metadata": {},
     "outputs": [
      {
       "output_type": "stream",
       "stream": "stdout",
       "text": [
        "[[9, 2, 2, 8, 5, 3, 9, 9], [3, 8, 8, 0, 3, 3, 1, 4], [4, 10, 5, 0, 4, 7, 10, 8], [6, 4, 8, 3, 0, 3, 8, 10], [1, 10, 1, 3, 3, 6, 8, 10], [0, 6, 10, 5, 1, 8, 4, 10], [2, 3, 8, 10, 9, 1, 10, 7], [9, 4, 4, 1, 5, 3, 7, 0]]\n"
       ]
      }
     ],
     "prompt_number": 2
    },
    {
     "cell_type": "code",
     "collapsed": false,
     "input": [
      "g = nnGraph(d, c, 8)"
     ],
     "language": "python",
     "metadata": {},
     "outputs": [],
     "prompt_number": 3
    },
    {
     "cell_type": "code",
     "collapsed": false,
     "input": [
      "g.blueSet"
     ],
     "language": "python",
     "metadata": {},
     "outputs": [
      {
       "metadata": {},
       "output_type": "pyout",
       "prompt_number": 4,
       "text": [
        "frozenset({4, 5, 6, 7})"
       ]
      }
     ],
     "prompt_number": 4
    },
    {
     "cell_type": "code",
     "collapsed": false,
     "input": [
      "g.search_init()\n",
      "print(g.unvisitedBlue)"
     ],
     "language": "python",
     "metadata": {},
     "outputs": [
      {
       "output_type": "stream",
       "stream": "stdout",
       "text": [
        "{4, 5, 6, 7}\n"
       ]
      }
     ],
     "prompt_number": 5
    },
    {
     "cell_type": "code",
     "collapsed": false,
     "input": [
      "g.nn_best_reversed()"
     ],
     "language": "python",
     "metadata": {},
     "outputs": [
      {
       "metadata": {},
       "output_type": "pyout",
       "prompt_number": 6,
       "text": [
        "([7, 4, 2, 3, 1, 6, 5, 0], 12)"
       ]
      }
     ],
     "prompt_number": 6
    },
    {
     "cell_type": "code",
     "collapsed": false,
     "input": [
      "g.hill_climbing(100)"
     ],
     "language": "python",
     "metadata": {},
     "outputs": [
      {
       "metadata": {},
       "output_type": "pyout",
       "prompt_number": 11,
       "text": [
        "([7, 3, 4, 2, 0, 1, 6, 5], 10)"
       ]
      }
     ],
     "prompt_number": 11
    },
    {
     "cell_type": "code",
     "collapsed": false,
     "input": [],
     "language": "python",
     "metadata": {},
     "outputs": []
    }
   ],
   "metadata": {}
  }
 ]
}