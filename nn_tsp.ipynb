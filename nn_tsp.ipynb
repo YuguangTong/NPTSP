{
 "metadata": {
  "name": "",
  "signature": "sha256:5881efd49cfba76ca303dc7050e0db8626dec7be1c608f3e7bb8fc0c39919578"
 },
 "nbformat": 3,
 "nbformat_minor": 0,
 "worksheets": [
  {
   "cells": [
    {
     "cell_type": "code",
     "collapsed": false,
     "input": [
      "# ipython notebook for interactive development"
     ],
     "language": "python",
     "metadata": {},
     "outputs": [],
     "prompt_number": 22
    },
    {
     "cell_type": "code",
     "collapsed": false,
     "input": [
      "import numpy as np\n",
      "from random import randint"
     ],
     "language": "python",
     "metadata": {},
     "outputs": [],
     "prompt_number": 1
    },
    {
     "cell_type": "code",
     "collapsed": false,
     "input": [
      "#generate input\n",
      "n = 50\n",
      "arr = np.zeros((n, n), int)\n",
      "for i in np.arange(n):\n",
      "    for j in np.arange(i):\n",
      "        arr[i, j] = randint(0, 100)\n",
      "        arr[j, i] = arr[i, j]\n",
      "print(arr)        "
     ],
     "language": "python",
     "metadata": {},
     "outputs": [
      {
       "output_type": "stream",
       "stream": "stdout",
       "text": [
        "[[ 0  6 64 ..., 34 56  6]\n",
        " [ 6  0  4 ..., 20 43 37]\n",
        " [64  4  0 ..., 44 95  9]\n",
        " ..., \n",
        " [34 20 44 ...,  0 86 75]\n",
        " [56 43 95 ..., 86  0 77]\n",
        " [ 6 37  9 ..., 75 77  0]]\n"
       ]
      }
     ],
     "prompt_number": 2
    },
    {
     "cell_type": "code",
     "collapsed": false,
     "input": [
      "def opposite_color(color):\n",
      "    \"\"\"\n",
      "    return the opposite color of COLOR\n",
      "    \"\"\"\n",
      "    if color == 'r':\n",
      "        return 'b'\n",
      "    return 'r'\n",
      "    \n",
      "def color_count(color, colorList):\n",
      "    \"\"\"\n",
      "    count the number of appearance of the COLOR in COLORLIST.\n",
      "    \"\"\"\n",
      "    n = 0\n",
      "    for c in colorList:\n",
      "        if c = color:\n",
      "            n += 1\n",
      "    return n\n",
      "\n",
      "def nn_tour(distMatrix, colorList, first = None):\n",
      "    \"\"\" \n",
      "    Beginning a nearest-neighbor tour from first, \n",
      "    move to the cities that is closest at each step.\n",
      "    \n",
      "    dist_matrix: 2d numpy array\n",
      "    color_list: \n",
      "    first: an int representing a starting city\n",
      "    \"\"\"\n",
      "    if first is None:\n",
      "        first = 0\n",
      "    tour = [first]\n",
      "    numCity = len(colorList)\n",
      "    unvisitedRed, unvisitedBlue = set(), set()\n",
      "    for i in range(numCity):\n",
      "        if color_list[i] == 'r':\n",
      "            unvisitedRed.add(i)\n",
      "        else:\n",
      "            unvisitedBlue.add(i)\n",
      "            \n",
      "    if colorList[first] == 'r':\n",
      "        unvisitedRed.remove(first)\n",
      "    else:\n",
      "        unvisitedBlue.remove(first)\n",
      "        \n",
      "    while unvisited:\n",
      "        colorHistory = []\n",
      "        for c in tour[-3:]:\n",
      "            colorHistory += colorList[c] \n",
      "        prevCity = tour[-1]\n",
      "        prevColor = colorList[prevCity]\n",
      "        if color_count(prevColor, colorHistory) == 3:\n",
      "            city = min(unvisited, key=lambda c: dist_matrix[c, prevCity])\n",
      "            tour.append(city)\n",
      "            unvisited.remove(city)\n",
      "    return tour\n",
      "            \n",
      "def tour_cost(distMatrix, tour):\n",
      "    cost = 0\n",
      "    for i in range(len(tour) - 1):\n",
      "        cost += distMatrix[tour[i], tour[i+1]]\n",
      "    return cost\n",
      "\n",
      "def nn_shortest_tour(distMatrix):\n",
      "    \"\"\"\n",
      "    find the shortest nearest-neighbor-tour.\n",
      "    \"\"\"\n",
      "    n = dist_matrix.shape[0]\n",
      "    cur_tour = []\n",
      "    cur_cost = np.inf\n",
      "    for i in range(n):\n",
      "        tour = nn_tour(distMatrix, i)\n",
      "        cost = tour_cost(distMatrix, tour)\n",
      "        if cost < cur_cost:\n",
      "            cur_cost, cur_tour = cost, tour\n",
      "    return cur_tour\n"
     ],
     "language": "python",
     "metadata": {},
     "outputs": [],
     "prompt_number": 3
    },
    {
     "cell_type": "code",
     "collapsed": false,
     "input": [
      "t = nn_shortest_tour(arr)\n",
      "print(t)\n",
      "print(tour_cost(arr, t))"
     ],
     "language": "python",
     "metadata": {},
     "outputs": [
      {
       "output_type": "stream",
       "stream": "stdout",
       "text": [
        "[12, 48, 13, 24, 14, 17, 23, 22, 43, 1, 32, 5, 7, 6, 33, 26, 0, 40, 41, 44, 4, 15, 25, 18, 9, 38, 31, 16, 28, 2, 39, 49, 19, 29, 36, 27, 34, 30, 45, 35, 37, 46, 20, 11, 3, 10, 21, 42, 8, 47]\n",
        "253\n"
       ]
      }
     ],
     "prompt_number": 4
    },
    {
     "cell_type": "code",
     "collapsed": false,
     "input": [],
     "language": "python",
     "metadata": {},
     "outputs": []
    }
   ],
   "metadata": {}
  }
 ]
}