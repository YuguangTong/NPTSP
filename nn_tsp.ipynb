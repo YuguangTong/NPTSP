{
 "metadata": {
  "name": "",
  "signature": "sha256:92112b7090d7302531c8c538d3277f3a1807d23cae7a797a72484a9235848be2"
 },
 "nbformat": 3,
 "nbformat_minor": 0,
 "worksheets": [
  {
   "cells": [
    {
     "cell_type": "code",
     "collapsed": false,
     "input": [
      "# ipython notebook for interactive development"
     ],
     "language": "python",
     "metadata": {},
     "outputs": [],
     "prompt_number": 22
    },
    {
     "cell_type": "code",
     "collapsed": false,
     "input": [
      "import numpy as np\n",
      "from random import randint"
     ],
     "language": "python",
     "metadata": {},
     "outputs": [],
     "prompt_number": 66
    },
    {
     "cell_type": "code",
     "collapsed": false,
     "input": [
      "#generate input\n",
      "n = 50\n",
      "arr = np.zeros((n, n), int)\n",
      "for i in np.arange(n):\n",
      "    for j in np.arange(i):\n",
      "        arr[i, j] = randint(0, 100)\n",
      "        arr[j, i] = arr[i, j]\n",
      "print(arr)        "
     ],
     "language": "python",
     "metadata": {},
     "outputs": [
      {
       "output_type": "stream",
       "stream": "stdout",
       "text": [
        "[[ 0 29 17 ..., 37 40 92]\n",
        " [29  0 42 ..., 69 99 24]\n",
        " [17 42  0 ..., 14 70 61]\n",
        " ..., \n",
        " [37 69 14 ...,  0 11 70]\n",
        " [40 99 70 ..., 11  0 83]\n",
        " [92 24 61 ..., 70 83  0]]\n"
       ]
      }
     ],
     "prompt_number": 84
    },
    {
     "cell_type": "code",
     "collapsed": false,
     "input": [
      "def nn_tour(dist_matrix, first = None):\n",
      "    \"\"\" \n",
      "    Beginning a nearest-neighbor tour from first, \n",
      "    move to the cities that is closest at each step.\n",
      "    \n",
      "    dist_matrix: 2d numpy array\n",
      "    first: an int representing a starting city\n",
      "    \"\"\"\n",
      "    if first is None:\n",
      "        first = 0\n",
      "    tour = [first]\n",
      "    n = dist_matrix.shape[0] # # of cities, assume 2d numpy array\n",
      "    unvisited = set(np.arange(n))\n",
      "    unvisited.remove(first)\n",
      "    while unvisited:\n",
      "        prev = tour[-1]\n",
      "        city = min(unvisited, key=lambda c: dist_matrix[c, prev])\n",
      "        tour.append(city)\n",
      "        unvisited.remove(city)\n",
      "    return tour\n",
      "            \n",
      "def tour_cost(dist_matrix, tour):\n",
      "    cost = 0\n",
      "    for i in range(len(tour) - 1):\n",
      "        cost += dist_matrix[tour[i], tour[i+1]]\n",
      "    return cost\n",
      "\n",
      "def nn_shortest_tour(dist_matrix):\n",
      "    \"\"\"\n",
      "    find the shortest nearest-neighbor-tour.\n",
      "    \"\"\"\n",
      "    n = dist_matrix.shape[0]\n",
      "    cur_tour = []\n",
      "    cur_cost = np.inf\n",
      "    for i in range(n):\n",
      "        tour = nn_tour(dist_matrix, i)\n",
      "        cost = tour_cost(dist_matrix, tour)\n",
      "        if cost < cur_cost:\n",
      "            cur_cost, cur_tour = cost, tour\n",
      "    return cur_tour\n"
     ],
     "language": "python",
     "metadata": {},
     "outputs": [],
     "prompt_number": 68
    },
    {
     "cell_type": "code",
     "collapsed": false,
     "input": [
      "t = nearest_neighbor_tsp(arr, 2)\n",
      "print(t)\n",
      "print(tour_cost(arr, t))"
     ],
     "language": "python",
     "metadata": {},
     "outputs": [
      {
       "output_type": "stream",
       "stream": "stdout",
       "text": [
        "[2, 26, 33, 16, 77, 74, 30, 80, 61, 22, 59, 9, 34, 41, 45, 23, 3, 32, 87, 46, 25, 73, 5, 75, 13, 19, 42, 51, 11, 71, 64, 67, 52, 15, 68, 38, 90, 6, 12, 44, 70, 24, 79, 39, 4, 27, 29, 76, 86, 72, 83, 78, 0, 92, 36, 97, 49, 65, 1, 47, 18, 10, 88, 31, 20, 7, 58, 95, 85, 14, 94, 37, 99, 69, 56, 62, 98, 57, 84, 53, 8, 54, 48, 17, 96, 55, 91, 81, 66, 63, 43, 82, 60, 40, 89, 28, 93, 50, 21, 35]\n",
        "451\n"
       ]
      }
     ],
     "prompt_number": 72
    },
    {
     "cell_type": "code",
     "collapsed": false,
     "input": [
      "t = nn_shortest_tour(arr)\n",
      "print(t)\n",
      "print(tour_cost(arr, t))"
     ],
     "language": "python",
     "metadata": {},
     "outputs": [
      {
       "output_type": "stream",
       "stream": "stdout",
       "text": [
        "[34, 8, 32, 31, 26, 25, 47, 20, 36, 19, 44, 12, 27, 1, 23, 2, 30, 24, 35, 41, 43, 29, 48, 14, 45, 33, 39, 4, 13, 22, 37, 3, 49, 18, 9, 6, 15, 5, 28, 16, 11, 0, 40, 21, 7, 46, 17, 10, 38, 42]\n",
        "341\n"
       ]
      }
     ],
     "prompt_number": 85
    },
    {
     "cell_type": "code",
     "collapsed": false,
     "input": [],
     "language": "python",
     "metadata": {},
     "outputs": []
    }
   ],
   "metadata": {}
  }
 ]
}