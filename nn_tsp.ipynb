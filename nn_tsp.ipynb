{
 "metadata": {
  "name": "",
  "signature": "sha256:0eb6d1095ecfd3b64b4c974a0d9c21178f5d4ade2a4b491d659c05f5b364c5b0"
 },
 "nbformat": 3,
 "nbformat_minor": 0,
 "worksheets": [
  {
   "cells": [
    {
     "cell_type": "code",
     "collapsed": false,
     "input": [
      "# ipython notebook for interactive development"
     ],
     "language": "python",
     "metadata": {},
     "outputs": [],
     "prompt_number": 22
    },
    {
     "cell_type": "code",
     "collapsed": false,
     "input": [
      "import numpy as np\n",
      "from random import randint"
     ],
     "language": "python",
     "metadata": {},
     "outputs": [],
     "prompt_number": 66
    },
    {
     "cell_type": "code",
     "collapsed": false,
     "input": [
      "#generate input\n",
      "n = 50\n",
      "arr = np.zeros((n, n), int)\n",
      "for i in np.arange(n):\n",
      "    for j in np.arange(i):\n",
      "        arr[i, j] = randint(0, 100)\n",
      "        arr[j, i] = arr[i, j]\n",
      "print(arr)        "
     ],
     "language": "python",
     "metadata": {},
     "outputs": [
      {
       "output_type": "stream",
       "stream": "stdout",
       "text": [
        "[[ 0 29 17 ..., 37 40 92]\n",
        " [29  0 42 ..., 69 99 24]\n",
        " [17 42  0 ..., 14 70 61]\n",
        " ..., \n",
        " [37 69 14 ...,  0 11 70]\n",
        " [40 99 70 ..., 11  0 83]\n",
        " [92 24 61 ..., 70 83  0]]\n"
       ]
      }
     ],
     "prompt_number": 84
    },
    {
     "cell_type": "code",
     "collapsed": false,
     "input": [
      "def nn_tour(dist_matrix, first = None):\n",
      "    \"\"\" \n",
      "    Beginning a nearest-neighbor tour from first, \n",
      "    move to the cities that is closest at each step.\n",
      "    \n",
      "    dist_matrix: 2d numpy array\n",
      "    first: an int representing a starting city\n",
      "    \"\"\"\n",
      "    if first is None:\n",
      "        first = 0\n",
      "    tour = [first]\n",
      "    n = dist_matrix.shape[0] # # of cities, assume 2d numpy array\n",
      "    unvisited = set(np.arange(n))\n",
      "    unvisited.remove(first)\n",
      "    while unvisited:\n",
      "        prev = tour[-1]\n",
      "        city = min(unvisited, key=lambda c: dist_matrix[c, prev])\n",
      "        tour.append(city)\n",
      "        unvisited.remove(city)\n",
      "    return tour\n",
      "            \n",
      "def tour_cost(dist_matrix, tour):\n",
      "    cost = 0\n",
      "    for i in range(len(tour) - 1):\n",
      "        cost += dist_matrix[tour[i], tour[i+1]]\n",
      "    return cost\n",
      "\n",
      "def nn_shortest_tour(dist_matrix):\n",
      "    \"\"\"\n",
      "    find the shortest nearest-neighbor-tour.\n",
      "    \"\"\"\n",
      "    n = dist_matrix.shape[0]\n",
      "    cur_tour = []\n",
      "    cur_cost = np.inf\n",
      "    for i in range(n):\n",
      "        tour = nn_tour(dist_matrix, i)\n",
      "        cost = tour_cost(dist_matrix, tour)\n",
      "        if cost < cur_cost:\n",
      "            cur_cost, cur_tour = cost, tour\n",
      "    return cur_tour\n"
     ],
     "language": "python",
     "metadata": {},
     "outputs": [],
     "prompt_number": 68
    },
    {
     "cell_type": "code",
     "collapsed": false,
     "input": [
      "t = nn_shortest_tour(arr)\n",
      "print(t)\n",
      "print(tour_cost(arr, t))"
     ],
     "language": "python",
     "metadata": {},
     "outputs": [
      {
       "output_type": "stream",
       "stream": "stdout",
       "text": [
        "[34, 8, 32, 31, 26, 25, 47, 20, 36, 19, 44, 12, 27, 1, 23, 2, 30, 24, 35, 41, 43, 29, 48, 14, 45, 33, 39, 4, 13, 22, 37, 3, 49, 18, 9, 6, 15, 5, 28, 16, 11, 0, 40, 21, 7, 46, 17, 10, 38, 42]\n",
        "341\n"
       ]
      }
     ],
     "prompt_number": 85
    }
   ],
   "metadata": {}
  }
 ]
}